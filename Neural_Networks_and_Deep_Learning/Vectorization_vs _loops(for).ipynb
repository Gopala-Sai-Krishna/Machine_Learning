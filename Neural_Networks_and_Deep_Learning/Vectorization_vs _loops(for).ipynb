{
 "cells": [
  {
   "cell_type": "markdown",
   "metadata": {},
   "source": [
    "## Vectorization vs 'for' loop"
   ]
  },
  {
   "cell_type": "code",
   "execution_count": 1,
   "metadata": {},
   "outputs": [],
   "source": [
    "import numpy as np\n",
    "import time\n"
   ]
  },
  {
   "cell_type": "code",
   "execution_count": 2,
   "metadata": {},
   "outputs": [],
   "source": [
    "# Generate random arrays of 1 million elements(say)\n",
    "\n",
    "a = np.random.randint(1000000, size = 1000000)\n",
    "b = np.random.randint(1000000, size = 1000000)"
   ]
  },
  {
   "cell_type": "code",
   "execution_count": 3,
   "metadata": {},
   "outputs": [
    {
     "name": "stdout",
     "output_type": "stream",
     "text": [
      "[660571 154434 297661 ... 128426 914400 618538]\n"
     ]
    }
   ],
   "source": [
    "print(a)"
   ]
  },
  {
   "cell_type": "code",
   "execution_count": 4,
   "metadata": {},
   "outputs": [
    {
     "name": "stdout",
     "output_type": "stream",
     "text": [
      "[537214 522026 627289 ... 686389 413207  15710]\n"
     ]
    }
   ],
   "source": [
    "print(b)"
   ]
  },
  {
   "cell_type": "code",
   "execution_count": 7,
   "metadata": {},
   "outputs": [
    {
     "name": "stdout",
     "output_type": "stream",
     "text": [
      "Dot product of a and b arrays is 925788646 -- calculated through verctorization\n",
      "Vectorized version: 24.00827407836914 ms -- time taken for computation\n"
     ]
    },
    {
     "name": "stderr",
     "output_type": "stream",
     "text": [
      "<ipython-input-7-614e9e514c3c>:14: RuntimeWarning: overflow encountered in long_scalars\n",
      "  c += a[i]*b[i]\n"
     ]
    },
    {
     "name": "stdout",
     "output_type": "stream",
     "text": [
      "Dot product of a and b arrays is 925788646 -- calculated using \"for\" loop\n",
      "For loop: 8072.511196136475 ms -- time taken for computation\n"
     ]
    }
   ],
   "source": [
    "# Dot product using np.dot()\n",
    "tic = time.time() # Generates current unix time. \n",
    "                  # Use datetime.datetime.fromtimestamp() to convert unix time to human readable time if needed\n",
    "\n",
    "c = np.dot(a, b)\n",
    "toc = time.time()\n",
    "\n",
    "print(f'Dot product of a and b arrays is {c} -- calculated through verctorization')\n",
    "print(f'Vectorized version: {str(1000*(toc-tic))} ms -- time taken for computation')\n",
    "\n",
    "# Dot product using 'for' loop\n",
    "c = 0\n",
    "tic = time.time()\n",
    "for i in range(1000000):\n",
    "    c += a[i]*b[i]\n",
    "toc = time.time()\n",
    "\n",
    "print(f'Dot product of a and b arrays is {c} -- calculated using \"for\" loop')\n",
    "print(f'For loop: {str(1000*(toc-tic))} ms -- time taken for computation')\n"
   ]
  },
  {
   "cell_type": "markdown",
   "metadata": {},
   "source": [
    "### For loops take lot more time to run, instead use Verctorization"
   ]
  },
  {
   "cell_type": "markdown",
   "metadata": {},
   "source": [
    "## Whenever possible, avoid explicit 'for' loops"
   ]
  },
  {
   "cell_type": "code",
   "execution_count": null,
   "metadata": {},
   "outputs": [],
   "source": []
  }
 ],
 "metadata": {
  "kernelspec": {
   "display_name": "Python 3",
   "language": "python",
   "name": "python3"
  },
  "language_info": {
   "codemirror_mode": {
    "name": "ipython",
    "version": 3
   },
   "file_extension": ".py",
   "mimetype": "text/x-python",
   "name": "python",
   "nbconvert_exporter": "python",
   "pygments_lexer": "ipython3",
   "version": "3.8.3"
  }
 },
 "nbformat": 4,
 "nbformat_minor": 4
}
